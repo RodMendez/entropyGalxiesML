{
  "nbformat": 4,
  "nbformat_minor": 0,
  "metadata": {
    "colab": {
      "provenance": [],
      "authorship_tag": "ABX9TyPtudWTQL8bOe8zikArmgvg",
      "include_colab_link": true
    },
    "kernelspec": {
      "name": "python3",
      "display_name": "Python 3"
    },
    "language_info": {
      "name": "python"
    }
  },
  "cells": [
    {
      "cell_type": "markdown",
      "metadata": {
        "id": "view-in-github",
        "colab_type": "text"
      },
      "source": [
        "<a href=\"https://colab.research.google.com/github/RodMendez/entropyGalxiesML/blob/main/MC_DropOut.ipynb\" target=\"_parent\"><img src=\"https://colab.research.google.com/assets/colab-badge.svg\" alt=\"Open In Colab\"/></a>"
      ]
    },
    {
      "cell_type": "markdown",
      "source": [],
      "metadata": {
        "id": "ycn61o5EPKFJ"
      }
    },
    {
      "cell_type": "code",
      "source": [
        "!pip install getdist\n"
      ],
      "metadata": {
        "colab": {
          "base_uri": "https://localhost:8080/"
        },
        "id": "TXCW_B_MWAf0",
        "outputId": "5b7fcb2a-a66a-4b99-bda6-d991019221ed"
      },
      "execution_count": 1,
      "outputs": [
        {
          "output_type": "stream",
          "name": "stdout",
          "text": [
            "Collecting getdist\n",
            "  Downloading getdist-1.5.3.tar.gz (826 kB)\n",
            "\u001b[?25l     \u001b[90m━━━━━━━━━━━━━━━━━━━━━━━━━━━━━━━━━━━━━━━━\u001b[0m \u001b[32m0.0/826.7 kB\u001b[0m \u001b[31m?\u001b[0m eta \u001b[36m-:--:--\u001b[0m\r\u001b[2K     \u001b[91m━━━━━━━━━━━━━━━\u001b[0m\u001b[90m╺\u001b[0m\u001b[90m━━━━━━━━━━━━━━━━━━━━━━━━\u001b[0m \u001b[32m317.4/826.7 kB\u001b[0m \u001b[31m9.2 MB/s\u001b[0m eta \u001b[36m0:00:01\u001b[0m\r\u001b[2K     \u001b[90m━━━━━━━━━━━━━━━━━━━━━━━━━━━━━━━━━━━━━━━━\u001b[0m \u001b[32m826.7/826.7 kB\u001b[0m \u001b[31m12.4 MB/s\u001b[0m eta \u001b[36m0:00:00\u001b[0m\n",
            "\u001b[?25h  Installing build dependencies ... \u001b[?25l\u001b[?25hdone\n",
            "  Getting requirements to build wheel ... \u001b[?25l\u001b[?25hdone\n",
            "  Preparing metadata (pyproject.toml) ... \u001b[?25l\u001b[?25hdone\n",
            "Requirement already satisfied: numpy>=1.23.0 in /usr/local/lib/python3.10/dist-packages (from getdist) (1.26.4)\n",
            "Requirement already satisfied: matplotlib!=3.5.0,>=2.2.0 in /usr/local/lib/python3.10/dist-packages (from getdist) (3.7.1)\n",
            "Requirement already satisfied: scipy>=1.5 in /usr/local/lib/python3.10/dist-packages (from getdist) (1.13.1)\n",
            "Requirement already satisfied: PyYAML>=5.1 in /usr/local/lib/python3.10/dist-packages (from getdist) (6.0.2)\n",
            "Requirement already satisfied: packaging in /usr/local/lib/python3.10/dist-packages (from getdist) (24.1)\n",
            "Requirement already satisfied: contourpy>=1.0.1 in /usr/local/lib/python3.10/dist-packages (from matplotlib!=3.5.0,>=2.2.0->getdist) (1.3.0)\n",
            "Requirement already satisfied: cycler>=0.10 in /usr/local/lib/python3.10/dist-packages (from matplotlib!=3.5.0,>=2.2.0->getdist) (0.12.1)\n",
            "Requirement already satisfied: fonttools>=4.22.0 in /usr/local/lib/python3.10/dist-packages (from matplotlib!=3.5.0,>=2.2.0->getdist) (4.54.1)\n",
            "Requirement already satisfied: kiwisolver>=1.0.1 in /usr/local/lib/python3.10/dist-packages (from matplotlib!=3.5.0,>=2.2.0->getdist) (1.4.7)\n",
            "Requirement already satisfied: pillow>=6.2.0 in /usr/local/lib/python3.10/dist-packages (from matplotlib!=3.5.0,>=2.2.0->getdist) (10.4.0)\n",
            "Requirement already satisfied: pyparsing>=2.3.1 in /usr/local/lib/python3.10/dist-packages (from matplotlib!=3.5.0,>=2.2.0->getdist) (3.2.0)\n",
            "Requirement already satisfied: python-dateutil>=2.7 in /usr/local/lib/python3.10/dist-packages (from matplotlib!=3.5.0,>=2.2.0->getdist) (2.8.2)\n",
            "Requirement already satisfied: six>=1.5 in /usr/local/lib/python3.10/dist-packages (from python-dateutil>=2.7->matplotlib!=3.5.0,>=2.2.0->getdist) (1.16.0)\n",
            "Building wheels for collected packages: getdist\n",
            "  Building wheel for getdist (pyproject.toml) ... \u001b[?25l\u001b[?25hdone\n",
            "  Created wheel for getdist: filename=getdist-1.5.3-py3-none-any.whl size=810925 sha256=a62f4bb5a68baef89b0650b59897d1fea13c22dd08760faccce7fd54f4529d2e\n",
            "  Stored in directory: /root/.cache/pip/wheels/75/16/7c/bfc6ad49f7f1b7f914b50bb483a71e6bc29c18cd97f3611878\n",
            "Successfully built getdist\n",
            "Installing collected packages: getdist\n",
            "Successfully installed getdist-1.5.3\n"
          ]
        }
      ]
    },
    {
      "cell_type": "code",
      "execution_count": 2,
      "metadata": {
        "id": "oEExjeGrQQsw"
      },
      "outputs": [],
      "source": [
        "import matplotlib.pyplot as plt\n",
        "from getdist import plots, MCSamples\n",
        "from getdist import *\n"
      ]
    },
    {
      "cell_type": "code",
      "source": [
        "# import planckStyle\n",
        "import pylab\n",
        "import numpy as np\n",
        "# import tkinter\n",
        "import matplotlib.pyplot as plt\n",
        "import matplotlib as mpl\n",
        "import matplotlib.ticker"
      ],
      "metadata": {
        "id": "oADrEG9QWJ4y"
      },
      "execution_count": 3,
      "outputs": []
    },
    {
      "cell_type": "code",
      "source": [
        "!pip install fgivenx\n"
      ],
      "metadata": {
        "colab": {
          "base_uri": "https://localhost:8080/"
        },
        "id": "kYfQPR5yWVeK",
        "outputId": "c215d655-251b-48ae-9860-b26aa8aeaece"
      },
      "execution_count": 4,
      "outputs": [
        {
          "output_type": "stream",
          "name": "stdout",
          "text": [
            "Collecting fgivenx\n",
            "  Downloading fgivenx-2.4.2-py3-none-any.whl.metadata (11 kB)\n",
            "Requirement already satisfied: matplotlib in /usr/local/lib/python3.10/dist-packages (from fgivenx) (3.7.1)\n",
            "Requirement already satisfied: numpy in /usr/local/lib/python3.10/dist-packages (from fgivenx) (1.26.4)\n",
            "Requirement already satisfied: scipy in /usr/local/lib/python3.10/dist-packages (from fgivenx) (1.13.1)\n",
            "Requirement already satisfied: contourpy>=1.0.1 in /usr/local/lib/python3.10/dist-packages (from matplotlib->fgivenx) (1.3.0)\n",
            "Requirement already satisfied: cycler>=0.10 in /usr/local/lib/python3.10/dist-packages (from matplotlib->fgivenx) (0.12.1)\n",
            "Requirement already satisfied: fonttools>=4.22.0 in /usr/local/lib/python3.10/dist-packages (from matplotlib->fgivenx) (4.54.1)\n",
            "Requirement already satisfied: kiwisolver>=1.0.1 in /usr/local/lib/python3.10/dist-packages (from matplotlib->fgivenx) (1.4.7)\n",
            "Requirement already satisfied: packaging>=20.0 in /usr/local/lib/python3.10/dist-packages (from matplotlib->fgivenx) (24.1)\n",
            "Requirement already satisfied: pillow>=6.2.0 in /usr/local/lib/python3.10/dist-packages (from matplotlib->fgivenx) (10.4.0)\n",
            "Requirement already satisfied: pyparsing>=2.3.1 in /usr/local/lib/python3.10/dist-packages (from matplotlib->fgivenx) (3.2.0)\n",
            "Requirement already satisfied: python-dateutil>=2.7 in /usr/local/lib/python3.10/dist-packages (from matplotlib->fgivenx) (2.8.2)\n",
            "Requirement already satisfied: six>=1.5 in /usr/local/lib/python3.10/dist-packages (from python-dateutil>=2.7->matplotlib->fgivenx) (1.16.0)\n",
            "Downloading fgivenx-2.4.2-py3-none-any.whl (617 kB)\n",
            "\u001b[2K   \u001b[90m━━━━━━━━━━━━━━━━━━━━━━━━━━━━━━━━━━━━━━━━\u001b[0m \u001b[32m617.3/617.3 kB\u001b[0m \u001b[31m7.2 MB/s\u001b[0m eta \u001b[36m0:00:00\u001b[0m\n",
            "\u001b[?25hInstalling collected packages: fgivenx\n",
            "Successfully installed fgivenx-2.4.2\n"
          ]
        }
      ]
    },
    {
      "cell_type": "code",
      "source": [
        "!pip install astroNN\n"
      ],
      "metadata": {
        "colab": {
          "base_uri": "https://localhost:8080/"
        },
        "id": "CF4RRd47W7Q-",
        "outputId": "c39bdf84-01eb-4e48-a93a-3fd1af0da40c"
      },
      "execution_count": 5,
      "outputs": [
        {
          "output_type": "stream",
          "name": "stdout",
          "text": [
            "Collecting astroNN\n",
            "  Downloading astroNN-1.1.0-py3-none-any.whl.metadata (5.0 kB)\n",
            "Requirement already satisfied: numpy in /usr/local/lib/python3.10/dist-packages (from astroNN) (1.26.4)\n",
            "Requirement already satisfied: astropy in /usr/local/lib/python3.10/dist-packages (from astroNN) (6.1.4)\n",
            "Requirement already satisfied: h5py in /usr/local/lib/python3.10/dist-packages (from astroNN) (3.11.0)\n",
            "Requirement already satisfied: matplotlib in /usr/local/lib/python3.10/dist-packages (from astroNN) (3.7.1)\n",
            "Collecting astroquery (from astroNN)\n",
            "  Downloading astroquery-0.4.7-py3-none-any.whl.metadata (7.2 kB)\n",
            "Requirement already satisfied: pandas in /usr/local/lib/python3.10/dist-packages (from astroNN) (2.2.2)\n",
            "Requirement already satisfied: scikit-learn in /usr/local/lib/python3.10/dist-packages (from astroNN) (1.5.2)\n",
            "Requirement already satisfied: tqdm in /usr/local/lib/python3.10/dist-packages (from astroNN) (4.66.5)\n",
            "Requirement already satisfied: packaging in /usr/local/lib/python3.10/dist-packages (from astroNN) (24.1)\n",
            "Requirement already satisfied: tensorflow>=2.11.0 in /usr/local/lib/python3.10/dist-packages (from astroNN) (2.17.0)\n",
            "Requirement already satisfied: tensorflow-probability>=0.19.0 in /usr/local/lib/python3.10/dist-packages (from astroNN) (0.24.0)\n",
            "Requirement already satisfied: absl-py>=1.0.0 in /usr/local/lib/python3.10/dist-packages (from tensorflow>=2.11.0->astroNN) (1.4.0)\n",
            "Requirement already satisfied: astunparse>=1.6.0 in /usr/local/lib/python3.10/dist-packages (from tensorflow>=2.11.0->astroNN) (1.6.3)\n",
            "Requirement already satisfied: flatbuffers>=24.3.25 in /usr/local/lib/python3.10/dist-packages (from tensorflow>=2.11.0->astroNN) (24.3.25)\n",
            "Requirement already satisfied: gast!=0.5.0,!=0.5.1,!=0.5.2,>=0.2.1 in /usr/local/lib/python3.10/dist-packages (from tensorflow>=2.11.0->astroNN) (0.6.0)\n",
            "Requirement already satisfied: google-pasta>=0.1.1 in /usr/local/lib/python3.10/dist-packages (from tensorflow>=2.11.0->astroNN) (0.2.0)\n",
            "Requirement already satisfied: libclang>=13.0.0 in /usr/local/lib/python3.10/dist-packages (from tensorflow>=2.11.0->astroNN) (18.1.1)\n",
            "Requirement already satisfied: ml-dtypes<0.5.0,>=0.3.1 in /usr/local/lib/python3.10/dist-packages (from tensorflow>=2.11.0->astroNN) (0.4.1)\n",
            "Requirement already satisfied: opt-einsum>=2.3.2 in /usr/local/lib/python3.10/dist-packages (from tensorflow>=2.11.0->astroNN) (3.4.0)\n",
            "Requirement already satisfied: protobuf!=4.21.0,!=4.21.1,!=4.21.2,!=4.21.3,!=4.21.4,!=4.21.5,<5.0.0dev,>=3.20.3 in /usr/local/lib/python3.10/dist-packages (from tensorflow>=2.11.0->astroNN) (3.20.3)\n",
            "Requirement already satisfied: requests<3,>=2.21.0 in /usr/local/lib/python3.10/dist-packages (from tensorflow>=2.11.0->astroNN) (2.32.3)\n",
            "Requirement already satisfied: setuptools in /usr/local/lib/python3.10/dist-packages (from tensorflow>=2.11.0->astroNN) (75.1.0)\n",
            "Requirement already satisfied: six>=1.12.0 in /usr/local/lib/python3.10/dist-packages (from tensorflow>=2.11.0->astroNN) (1.16.0)\n",
            "Requirement already satisfied: termcolor>=1.1.0 in /usr/local/lib/python3.10/dist-packages (from tensorflow>=2.11.0->astroNN) (2.5.0)\n",
            "Requirement already satisfied: typing-extensions>=3.6.6 in /usr/local/lib/python3.10/dist-packages (from tensorflow>=2.11.0->astroNN) (4.12.2)\n",
            "Requirement already satisfied: wrapt>=1.11.0 in /usr/local/lib/python3.10/dist-packages (from tensorflow>=2.11.0->astroNN) (1.16.0)\n",
            "Requirement already satisfied: grpcio<2.0,>=1.24.3 in /usr/local/lib/python3.10/dist-packages (from tensorflow>=2.11.0->astroNN) (1.64.1)\n",
            "Requirement already satisfied: tensorboard<2.18,>=2.17 in /usr/local/lib/python3.10/dist-packages (from tensorflow>=2.11.0->astroNN) (2.17.0)\n",
            "Requirement already satisfied: keras>=3.2.0 in /usr/local/lib/python3.10/dist-packages (from tensorflow>=2.11.0->astroNN) (3.4.1)\n",
            "Requirement already satisfied: tensorflow-io-gcs-filesystem>=0.23.1 in /usr/local/lib/python3.10/dist-packages (from tensorflow>=2.11.0->astroNN) (0.37.1)\n",
            "Requirement already satisfied: decorator in /usr/local/lib/python3.10/dist-packages (from tensorflow-probability>=0.19.0->astroNN) (4.4.2)\n",
            "Requirement already satisfied: cloudpickle>=1.3 in /usr/local/lib/python3.10/dist-packages (from tensorflow-probability>=0.19.0->astroNN) (3.1.0)\n",
            "Requirement already satisfied: dm-tree in /usr/local/lib/python3.10/dist-packages (from tensorflow-probability>=0.19.0->astroNN) (0.1.8)\n",
            "Requirement already satisfied: pyerfa>=2.0.1.1 in /usr/local/lib/python3.10/dist-packages (from astropy->astroNN) (2.0.1.4)\n",
            "Requirement already satisfied: astropy-iers-data>=0.2024.8.27.10.28.29 in /usr/local/lib/python3.10/dist-packages (from astropy->astroNN) (0.2024.10.14.0.32.55)\n",
            "Requirement already satisfied: PyYAML>=3.13 in /usr/local/lib/python3.10/dist-packages (from astropy->astroNN) (6.0.2)\n",
            "Requirement already satisfied: beautifulsoup4>=4.8 in /usr/local/lib/python3.10/dist-packages (from astroquery->astroNN) (4.12.3)\n",
            "Requirement already satisfied: html5lib>=0.999 in /usr/local/lib/python3.10/dist-packages (from astroquery->astroNN) (1.1)\n",
            "Requirement already satisfied: keyring>=15.0 in /usr/lib/python3/dist-packages (from astroquery->astroNN) (23.5.0)\n",
            "Collecting pyvo>=1.1 (from astroquery->astroNN)\n",
            "  Downloading pyvo-1.5.3-py3-none-any.whl.metadata (4.7 kB)\n",
            "Requirement already satisfied: contourpy>=1.0.1 in /usr/local/lib/python3.10/dist-packages (from matplotlib->astroNN) (1.3.0)\n",
            "Requirement already satisfied: cycler>=0.10 in /usr/local/lib/python3.10/dist-packages (from matplotlib->astroNN) (0.12.1)\n",
            "Requirement already satisfied: fonttools>=4.22.0 in /usr/local/lib/python3.10/dist-packages (from matplotlib->astroNN) (4.54.1)\n",
            "Requirement already satisfied: kiwisolver>=1.0.1 in /usr/local/lib/python3.10/dist-packages (from matplotlib->astroNN) (1.4.7)\n",
            "Requirement already satisfied: pillow>=6.2.0 in /usr/local/lib/python3.10/dist-packages (from matplotlib->astroNN) (10.4.0)\n",
            "Requirement already satisfied: pyparsing>=2.3.1 in /usr/local/lib/python3.10/dist-packages (from matplotlib->astroNN) (3.2.0)\n",
            "Requirement already satisfied: python-dateutil>=2.7 in /usr/local/lib/python3.10/dist-packages (from matplotlib->astroNN) (2.8.2)\n",
            "Requirement already satisfied: pytz>=2020.1 in /usr/local/lib/python3.10/dist-packages (from pandas->astroNN) (2024.2)\n",
            "Requirement already satisfied: tzdata>=2022.7 in /usr/local/lib/python3.10/dist-packages (from pandas->astroNN) (2024.2)\n",
            "Requirement already satisfied: scipy>=1.6.0 in /usr/local/lib/python3.10/dist-packages (from scikit-learn->astroNN) (1.13.1)\n",
            "Requirement already satisfied: joblib>=1.2.0 in /usr/local/lib/python3.10/dist-packages (from scikit-learn->astroNN) (1.4.2)\n",
            "Requirement already satisfied: threadpoolctl>=3.1.0 in /usr/local/lib/python3.10/dist-packages (from scikit-learn->astroNN) (3.5.0)\n",
            "Requirement already satisfied: wheel<1.0,>=0.23.0 in /usr/local/lib/python3.10/dist-packages (from astunparse>=1.6.0->tensorflow>=2.11.0->astroNN) (0.44.0)\n",
            "Requirement already satisfied: soupsieve>1.2 in /usr/local/lib/python3.10/dist-packages (from beautifulsoup4>=4.8->astroquery->astroNN) (2.6)\n",
            "Requirement already satisfied: webencodings in /usr/local/lib/python3.10/dist-packages (from html5lib>=0.999->astroquery->astroNN) (0.5.1)\n",
            "Requirement already satisfied: rich in /usr/local/lib/python3.10/dist-packages (from keras>=3.2.0->tensorflow>=2.11.0->astroNN) (13.9.2)\n",
            "Requirement already satisfied: namex in /usr/local/lib/python3.10/dist-packages (from keras>=3.2.0->tensorflow>=2.11.0->astroNN) (0.0.8)\n",
            "Requirement already satisfied: optree in /usr/local/lib/python3.10/dist-packages (from keras>=3.2.0->tensorflow>=2.11.0->astroNN) (0.13.0)\n",
            "Requirement already satisfied: charset-normalizer<4,>=2 in /usr/local/lib/python3.10/dist-packages (from requests<3,>=2.21.0->tensorflow>=2.11.0->astroNN) (3.4.0)\n",
            "Requirement already satisfied: idna<4,>=2.5 in /usr/local/lib/python3.10/dist-packages (from requests<3,>=2.21.0->tensorflow>=2.11.0->astroNN) (3.10)\n",
            "Requirement already satisfied: urllib3<3,>=1.21.1 in /usr/local/lib/python3.10/dist-packages (from requests<3,>=2.21.0->tensorflow>=2.11.0->astroNN) (2.2.3)\n",
            "Requirement already satisfied: certifi>=2017.4.17 in /usr/local/lib/python3.10/dist-packages (from requests<3,>=2.21.0->tensorflow>=2.11.0->astroNN) (2024.8.30)\n",
            "Requirement already satisfied: markdown>=2.6.8 in /usr/local/lib/python3.10/dist-packages (from tensorboard<2.18,>=2.17->tensorflow>=2.11.0->astroNN) (3.7)\n",
            "Requirement already satisfied: tensorboard-data-server<0.8.0,>=0.7.0 in /usr/local/lib/python3.10/dist-packages (from tensorboard<2.18,>=2.17->tensorflow>=2.11.0->astroNN) (0.7.2)\n",
            "Requirement already satisfied: werkzeug>=1.0.1 in /usr/local/lib/python3.10/dist-packages (from tensorboard<2.18,>=2.17->tensorflow>=2.11.0->astroNN) (3.0.4)\n",
            "Requirement already satisfied: MarkupSafe>=2.1.1 in /usr/local/lib/python3.10/dist-packages (from werkzeug>=1.0.1->tensorboard<2.18,>=2.17->tensorflow>=2.11.0->astroNN) (3.0.1)\n",
            "Requirement already satisfied: markdown-it-py>=2.2.0 in /usr/local/lib/python3.10/dist-packages (from rich->keras>=3.2.0->tensorflow>=2.11.0->astroNN) (3.0.0)\n",
            "Requirement already satisfied: pygments<3.0.0,>=2.13.0 in /usr/local/lib/python3.10/dist-packages (from rich->keras>=3.2.0->tensorflow>=2.11.0->astroNN) (2.18.0)\n",
            "Requirement already satisfied: mdurl~=0.1 in /usr/local/lib/python3.10/dist-packages (from markdown-it-py>=2.2.0->rich->keras>=3.2.0->tensorflow>=2.11.0->astroNN) (0.1.2)\n",
            "Downloading astroNN-1.1.0-py3-none-any.whl (9.3 MB)\n",
            "\u001b[2K   \u001b[90m━━━━━━━━━━━━━━━━━━━━━━━━━━━━━━━━━━━━━━━━\u001b[0m \u001b[32m9.3/9.3 MB\u001b[0m \u001b[31m52.0 MB/s\u001b[0m eta \u001b[36m0:00:00\u001b[0m\n",
            "\u001b[?25hDownloading astroquery-0.4.7-py3-none-any.whl (5.3 MB)\n",
            "\u001b[2K   \u001b[90m━━━━━━━━━━━━━━━━━━━━━━━━━━━━━━━━━━━━━━━━\u001b[0m \u001b[32m5.3/5.3 MB\u001b[0m \u001b[31m61.0 MB/s\u001b[0m eta \u001b[36m0:00:00\u001b[0m\n",
            "\u001b[?25hDownloading pyvo-1.5.3-py3-none-any.whl (912 kB)\n",
            "\u001b[2K   \u001b[90m━━━━━━━━━━━━━━━━━━━━━━━━━━━━━━━━━━━━━━━━\u001b[0m \u001b[32m912.9/912.9 kB\u001b[0m \u001b[31m33.1 MB/s\u001b[0m eta \u001b[36m0:00:00\u001b[0m\n",
            "\u001b[?25hInstalling collected packages: pyvo, astroquery, astroNN\n",
            "Successfully installed astroNN-1.1.0 astroquery-0.4.7 pyvo-1.5.3\n"
          ]
        }
      ]
    },
    {
      "cell_type": "code",
      "source": [
        "# import planckStyle\n",
        "import fgivenx\n",
        "from fgivenx import plot_contours, samples_from_getdist_chains, plot_lines, plot_dkl\n",
        "\n",
        "# matplotlib.use('TkAgg')\n",
        "%matplotlib inline"
      ],
      "metadata": {
        "id": "_Jht8F5RWNRj"
      },
      "execution_count": 6,
      "outputs": []
    },
    {
      "cell_type": "code",
      "source": [
        "import tensorflow as tf\n",
        "from sklearn.metrics import mean_squared_error, euclidean_distances, median_absolute_error\n",
        "import numpy as np\n",
        "import pandas as pd\n",
        "from astroNN.nn.layers import MCDropout\n",
        "from sklearn.preprocessing import StandardScaler, MinMaxScaler\n",
        "import matplotlib.pyplot as plt\n",
        "import scipy.integrate as intg\n",
        "from scipy.misc import derivative\n",
        "from scipy.integrate import quad\n",
        "import seaborn as sns\n",
        "from scipy.interpolate import interp1d\n",
        "from statsmodels.nonparametric.smoothers_lowess import lowess"
      ],
      "metadata": {
        "id": "n6ArmntFWtz1"
      },
      "execution_count": 7,
      "outputs": []
    },
    {
      "cell_type": "code",
      "source": [
        "data = pd.read_csv(\"Mayor R  (R500).csv\")"
      ],
      "metadata": {
        "id": "iym-dsMLbKJ4"
      },
      "execution_count": 8,
      "outputs": []
    },
    {
      "cell_type": "code",
      "source": [
        "# Imprimir las columnas del dataset\n",
        "print(data.columns)"
      ],
      "metadata": {
        "colab": {
          "base_uri": "https://localhost:8080/"
        },
        "id": "PJTB4_BGbUWE",
        "outputId": "d36b7f4c-f1cb-4cde-c0f4-036b3bf633f5"
      },
      "execution_count": 9,
      "outputs": [
        {
          "output_type": "stream",
          "name": "stdout",
          "text": [
            "Index(['Nombre', 'Rmax rayos X', 'nelec', 'Tx', 'S', 'σLOS', 'Rvir', 'Mvir',\n",
            "       'A', 'Hz', 'R500', 'CC'],\n",
            "      dtype='object')\n"
          ]
        }
      ]
    },
    {
      "cell_type": "markdown",
      "source": [
        "# **Escalamos los datos**\n",
        "\n",
        "Ya que los datos provenientes de observaciones del óptico tienen magnitudes distintas a las de aquellos provenientes en Rayos-X, es necesario escalar\n"
      ],
      "metadata": {
        "id": "9EfbtlIDK8ef"
      }
    },
    {
      "cell_type": "code",
      "source": [
        "from sklearn.preprocessing import StandardScaler\n",
        "\n",
        "x = df_data[['Rmax rayos X', 'nelec', 'Tx', 'σLOS', 'Rvir', 'Mvir']]\n",
        "\n",
        "# Inicializa el escalador\n",
        "scaler_general = StandardScaler()\n",
        "\n",
        "# Ajusta el escalador a las variables de entrada\n",
        "scaler.fit(x)\n",
        "\n",
        "# Aplica la transformación\n",
        "x_scaled = scaler.transform(x)\n"
      ],
      "metadata": {
        "id": "2QXp4WqxgUcD"
      },
      "execution_count": 56,
      "outputs": []
    },
    {
      "cell_type": "code",
      "source": [
        "df_data = data[['Rmax rayos X', 'nelec', 'Tx', 'σLOS', 'Rvir', 'Mvir', 'Hz', 'S']]\n",
        "\n",
        "# Define las variables de entrada y salida ya escaladas\n",
        "x_scaled = scaler.transform(df_data[['Rmax rayos X', 'nelec', 'Tx', 'σLOS', 'Rvir', 'Mvir']].values)  # Variables de entrada escaladas\n",
        "y_scaled = scaler_output.transform(df_data[['Hz', 'S']].values)  # Variables de salida escaladas\n",
        "\n",
        "# Encuentra los valores mínimos y máximos de las variables de entrada escaladas\n",
        "xmin, xmax = np.min(x_scaled), np.max(x_scaled)\n"
      ],
      "metadata": {
        "colab": {
          "base_uri": "https://localhost:8080/"
        },
        "id": "okd68RZoc-T1",
        "outputId": "d29f7087-d4dd-4d61-9074-bfa46cb778f8"
      },
      "execution_count": 57,
      "outputs": [
        {
          "output_type": "stream",
          "name": "stderr",
          "text": [
            "/usr/local/lib/python3.10/dist-packages/sklearn/base.py:493: UserWarning: X does not have valid feature names, but StandardScaler was fitted with feature names\n",
            "  warnings.warn(\n"
          ]
        }
      ]
    },
    {
      "cell_type": "code",
      "source": [
        "from sklearn.preprocessing import StandardScaler\n",
        "\n",
        "# Inicializa el escalador\n",
        "scaler = StandardScaler()\n",
        "\"\"\"\n",
        "# Ajusta el escalador a las variables de entrada\n",
        "scaler.fit(x)\n",
        "\n",
        "# Aplica la transformación\n",
        "x_scaled = scaler.transform(x)\n",
        "\"\"\""
      ],
      "metadata": {
        "colab": {
          "base_uri": "https://localhost:8080/",
          "height": 35
        },
        "id": "k2Y1TZzmiqt2",
        "outputId": "04068289-210a-4d2c-eb47-5f0dfa24ad00"
      },
      "execution_count": 11,
      "outputs": [
        {
          "output_type": "execute_result",
          "data": {
            "text/plain": [
              "'\\n# Ajusta el escalador a las variables de entrada\\nscaler.fit(x)\\n\\n# Aplica la transformación\\nx_scaled = scaler.transform(x)\\n'"
            ],
            "application/vnd.google.colaboratory.intrinsic+json": {
              "type": "string"
            }
          },
          "metadata": {},
          "execution_count": 11
        }
      ]
    },
    {
      "cell_type": "code",
      "source": [
        "from sklearn.preprocessing import StandardScaler\n",
        "\n",
        "# Inicializa el escalador para los datos de salida\n",
        "scaler = StandardScaler()\n",
        "\n",
        "y = data[['Hz', 'S']].values\n",
        "\n",
        "# Inicializar y ajustar el escalador para los datos de salida\n",
        "scaler_output = StandardScaler()\n",
        "scaler_output.fit(y)  # Ajustar el escalador a tus datos de salida\n",
        "y_scaled = scaler_output.transform(y)  # Escalar los datos de salida\n"
      ],
      "metadata": {
        "id": "HuhG6iFHlEqG"
      },
      "execution_count": 13,
      "outputs": []
    },
    {
      "cell_type": "code",
      "source": [
        "# Ajustar el escalador solo a la columna 'Rmax rayos X'\n",
        "scaler_rmax = StandardScaler()  # Escalador específico para 'Rmax rayos X'\n",
        "scaler_rmax.fit(data[['Rmax rayos X']])\n",
        "\n",
        "print(x_scaled)"
      ],
      "metadata": {
        "id": "_yUFUAw5Xy91",
        "outputId": "7133926f-f126-40e3-8bb8-b37c47607355",
        "colab": {
          "base_uri": "https://localhost:8080/"
        }
      },
      "execution_count": 42,
      "outputs": [
        {
          "output_type": "stream",
          "name": "stdout",
          "text": [
            "[[-0.26833662]\n",
            " [ 0.11841823]\n",
            " [-0.45043369]\n",
            " [ 0.13775597]\n",
            " [ 0.13614449]\n",
            " [-0.28122845]\n",
            " [-0.48588622]\n",
            " [-0.543416  ]\n",
            " [-0.16681347]\n",
            " [-0.38436307]\n",
            " [-0.12008059]\n",
            " [-0.58241378]\n",
            " [-0.19904304]\n",
            " [-0.22321522]\n",
            " [-0.19259713]\n",
            " [-0.23449557]\n",
            " [-0.06206737]\n",
            " [ 0.13292153]\n",
            " [-0.47460587]\n",
            " [-0.20710043]\n",
            " [ 0.19899215]\n",
            " [-0.02822632]\n",
            " [-0.3521335 ]\n",
            " [-0.55163454]\n",
            " [-0.50522396]\n",
            " [ 1.01923472]\n",
            " [-0.15875608]\n",
            " [ 0.49711568]\n",
            " [-0.27478253]\n",
            " [ 0.13453301]\n",
            " [ 0.09746901]\n",
            " [ 0.07329683]\n",
            " [-0.34891054]\n",
            " [-0.3972549 ]\n",
            " [-0.43270743]\n",
            " [-0.34891054]\n",
            " [ 5.77309635]\n",
            " [-0.0443411 ]]\n"
          ]
        }
      ]
    },
    {
      "cell_type": "markdown",
      "source": [
        "Por ahora se usará solo una entrada, en este caso Rmax rayos"
      ],
      "metadata": {
        "id": "kFxuuSVELO9a"
      }
    },
    {
      "cell_type": "markdown",
      "source": [
        "Preparamos una curva suavizada que nos permitirá visualizar las predicciones generadas por el modelo junto con la incertidumbre asociada. La curva está diseñada para representar las predicciones centrales, así como las bandas de incertidumbre superior e inferior, basadas en la desviación estándar de las predicciones (incertidumbre)."
      ],
      "metadata": {
        "id": "ADAN9DWYNtyd"
      }
    },
    {
      "cell_type": "code",
      "source": [
        "from scipy.interpolate import interp1d\n",
        "from statsmodels.nonparametric.smoothers_lowess import lowess\n",
        "\n",
        "def get_smoothed_curve(rmax_scaled, prediction, sigma, curve_type='lower', frac=0.05):\n",
        "    \"\"\"\n",
        "    Obtener la curva suavizada basada en las predicciones y el tipo de curva.\n",
        "\n",
        "    Parámetros:\n",
        "    - rmax_scaled: Variable de entrada 'Rmax rayos X' escalada.\n",
        "    - prediction: Valores predichos centrales (media de las predicciones), escalados si es necesario.\n",
        "    - sigma: Desviación estándar de las predicciones (incertidumbre).\n",
        "    - curve_type: String, 'upper' o 'lower'. Especifica si devolver la curva superior o inferior.\n",
        "    - frac: Fracción para el suavizado LOWESS.\n",
        "\n",
        "    Retorna:\n",
        "    - smoothed_curve: Array con dos columnas: la primera con los valores x y la segunda con los valores y de la curva suavizada.\n",
        "    \"\"\"\n",
        "    # Determinar el tipo de curva (superior o inferior)\n",
        "    if curve_type == 'lower':\n",
        "        prediction_curve = prediction - sigma\n",
        "    elif curve_type == 'upper':\n",
        "        prediction_curve = prediction + sigma\n",
        "    else:\n",
        "        raise ValueError(\"curve_type debe ser 'upper' o 'lower'\")\n",
        "\n",
        "    # Interpolación\n",
        "    f = interp1d(rmax_scaled.flatten(), prediction_curve, fill_value=\"extrapolate\")\n",
        "\n",
        "    # Nuevo rango de valores escalados X para la interpolación\n",
        "    new_X = np.linspace(min(rmax_scaled.flatten()), max(rmax_scaled.flatten()), 100)\n",
        "\n",
        "    # Valores interpolados\n",
        "    interpolated_values = f(new_X)\n",
        "\n",
        "    # Suavizado de la curva usando LOWESS\n",
        "    smoothed_curve = lowess(interpolated_values, new_X.ravel(), frac=frac)\n",
        "\n",
        "    return smoothed_curve\n"
      ],
      "metadata": {
        "id": "FcvphOmbc6Hh"
      },
      "execution_count": 43,
      "outputs": []
    },
    {
      "cell_type": "markdown",
      "source": [
        "Calculamos los valores mínimos y máximos de las variables de entrada (xmin, xmax) para tener una idea del rango de los datos. Estos valores pueden ser útiles más adelante, por ejemplo, en la normalización o para graficar.\n"
      ],
      "metadata": {
        "id": "XaZcggYmPHzq"
      }
    },
    {
      "cell_type": "markdown",
      "source": [
        "Comprobamos la forma de los datos que el modelo espera recibir para ver si es consistente"
      ],
      "metadata": {
        "id": "QVJe-gd2TpmY"
      }
    },
    {
      "cell_type": "markdown",
      "source": [
        "Cargamos el modelo. Este modelo se construyo para otros fines con otros datos.\n",
        "\n",
        "¿Ahora, solo con cargarlo, puedo usarlo con mis datos?"
      ],
      "metadata": {
        "id": "c7RFHaH1fN1h"
      }
    },
    {
      "cell_type": "code",
      "source": [
        "from keras.metrics import MeanSquaredError\n",
        "\n",
        "#Carga el modelo desde la ubicación actual\n",
        "model = tf.keras.models.load_model('large_lsst_model.h5', custom_objects={'MCDropout': MCDropout,'mse': MeanSquaredError()})"
      ],
      "metadata": {
        "colab": {
          "base_uri": "https://localhost:8080/"
        },
        "id": "M1GkyfHre33b",
        "outputId": "106474bf-fd8e-41bb-d325-2729fb96c86b"
      },
      "execution_count": 44,
      "outputs": [
        {
          "output_type": "stream",
          "name": "stderr",
          "text": [
            "/usr/local/lib/python3.10/dist-packages/keras/src/optimizers/base_optimizer.py:33: UserWarning: Argument `decay` is no longer supported and will be ignored.\n",
            "  warnings.warn(\n",
            "WARNING:absl:Compiled the loaded model, but the compiled metrics have yet to be built. `model.compile_metrics` will be empty until you train or evaluate the model.\n",
            "WARNING:absl:Error in loading the saved optimizer state. As a result, your model is starting with a freshly initialized optimizer.\n"
          ]
        }
      ]
    },
    {
      "cell_type": "code",
      "source": [
        "print(model.input_shape)"
      ],
      "metadata": {
        "colab": {
          "base_uri": "https://localhost:8080/"
        },
        "id": "PmZkyCMRjdHf",
        "outputId": "40d51166-fd38-4bd9-e7d5-9c0c6d201963"
      },
      "execution_count": 45,
      "outputs": [
        {
          "output_type": "stream",
          "name": "stdout",
          "text": [
            "(None, 1)\n"
          ]
        }
      ]
    },
    {
      "cell_type": "markdown",
      "source": [
        " Generamos predicciones para Hz y S utilizando Monte Carlo Dropout"
      ],
      "metadata": {
        "id": "xVMkOJkDjOQX"
      }
    },
    {
      "cell_type": "code",
      "source": [
        "# Genera datos de prueba solo para Rmax rayos X\n",
        "# Extraer y escalar solo Rmax rayos X\n",
        "#rmax_scaled = x_scaled[:, 0].reshape(-1, 1)\n",
        "\n",
        "x_scaled = scaler.transform(data[['Rmax rayos X']])  # Escalar 'Rmax rayos X'\n",
        "\n",
        "# Parámetros\n",
        "test_batch_size = len(rmax_scaled)  # Usa el tamaño del conjunto de datos escalado\n",
        "mc_dropout_num = 100  # Ejecuta Dropout 150 veces\n",
        "\n",
        "# Inicializa matrices para almacenar predicciones y varianza\n",
        "predictions = np.zeros((mc_dropout_num, test_batch_size, 2))  # 2 es el número de salidas: Hz y S\n",
        "\n",
        "# Ejecuta Monte Carlo Dropout\n",
        "for j in range(mc_dropout_num):\n",
        "    predictions[j] = model.predict(rmax_scaled)  # Usa solo Rmax rayos X\n",
        "\n",
        "# Obtiene los resultados promedio y su varianza\n",
        "prediction_mc_dropout = np.mean(predictions, axis=0)\n",
        "std_mc_dropout = np.std(predictions, axis=0)\n",
        "\n",
        "# Imprimir resultados\n",
        "print(\"Predicciones promedios (Hz y S):\")\n",
        "print(prediction_mc_dropout)\n",
        "print(\"Desviación estándar (incertidumbre):\")\n",
        "print(std_mc_dropout)\n",
        "\n",
        "\n"
      ],
      "metadata": {
        "colab": {
          "base_uri": "https://localhost:8080/"
        },
        "id": "h-sCrkUsiwlb",
        "outputId": "8d3ceec1-126b-40ef-e0be-b62c121f6e2d"
      },
      "execution_count": 47,
      "outputs": [
        {
          "output_type": "stream",
          "name": "stdout",
          "text": [
            "\u001b[1m2/2\u001b[0m \u001b[32m━━━━━━━━━━━━━━━━━━━━\u001b[0m\u001b[37m\u001b[0m \u001b[1m0s\u001b[0m 5ms/step \n",
            "\u001b[1m2/2\u001b[0m \u001b[32m━━━━━━━━━━━━━━━━━━━━\u001b[0m\u001b[37m\u001b[0m \u001b[1m0s\u001b[0m 6ms/step \n",
            "\u001b[1m2/2\u001b[0m \u001b[32m━━━━━━━━━━━━━━━━━━━━\u001b[0m\u001b[37m\u001b[0m \u001b[1m0s\u001b[0m 6ms/step \n",
            "\u001b[1m2/2\u001b[0m \u001b[32m━━━━━━━━━━━━━━━━━━━━\u001b[0m\u001b[37m\u001b[0m \u001b[1m0s\u001b[0m 6ms/step \n",
            "\u001b[1m2/2\u001b[0m \u001b[32m━━━━━━━━━━━━━━━━━━━━\u001b[0m\u001b[37m\u001b[0m \u001b[1m0s\u001b[0m 5ms/step \n",
            "\u001b[1m2/2\u001b[0m \u001b[32m━━━━━━━━━━━━━━━━━━━━\u001b[0m\u001b[37m\u001b[0m \u001b[1m0s\u001b[0m 6ms/step \n",
            "\u001b[1m2/2\u001b[0m \u001b[32m━━━━━━━━━━━━━━━━━━━━\u001b[0m\u001b[37m\u001b[0m \u001b[1m0s\u001b[0m 6ms/step \n",
            "\u001b[1m2/2\u001b[0m \u001b[32m━━━━━━━━━━━━━━━━━━━━\u001b[0m\u001b[37m\u001b[0m \u001b[1m0s\u001b[0m 6ms/step \n",
            "\u001b[1m2/2\u001b[0m \u001b[32m━━━━━━━━━━━━━━━━━━━━\u001b[0m\u001b[37m\u001b[0m \u001b[1m0s\u001b[0m 8ms/step \n",
            "\u001b[1m2/2\u001b[0m \u001b[32m━━━━━━━━━━━━━━━━━━━━\u001b[0m\u001b[37m\u001b[0m \u001b[1m0s\u001b[0m 6ms/step \n",
            "\u001b[1m2/2\u001b[0m \u001b[32m━━━━━━━━━━━━━━━━━━━━\u001b[0m\u001b[37m\u001b[0m \u001b[1m0s\u001b[0m 7ms/step \n",
            "\u001b[1m2/2\u001b[0m \u001b[32m━━━━━━━━━━━━━━━━━━━━\u001b[0m\u001b[37m\u001b[0m \u001b[1m0s\u001b[0m 11ms/step\n",
            "\u001b[1m2/2\u001b[0m \u001b[32m━━━━━━━━━━━━━━━━━━━━\u001b[0m\u001b[37m\u001b[0m \u001b[1m0s\u001b[0m 10ms/step\n",
            "\u001b[1m2/2\u001b[0m \u001b[32m━━━━━━━━━━━━━━━━━━━━\u001b[0m\u001b[37m\u001b[0m \u001b[1m0s\u001b[0m 6ms/step \n",
            "\u001b[1m2/2\u001b[0m \u001b[32m━━━━━━━━━━━━━━━━━━━━\u001b[0m\u001b[37m\u001b[0m \u001b[1m0s\u001b[0m 7ms/step \n",
            "\u001b[1m2/2\u001b[0m \u001b[32m━━━━━━━━━━━━━━━━━━━━\u001b[0m\u001b[37m\u001b[0m \u001b[1m0s\u001b[0m 7ms/step \n",
            "\u001b[1m2/2\u001b[0m \u001b[32m━━━━━━━━━━━━━━━━━━━━\u001b[0m\u001b[37m\u001b[0m \u001b[1m0s\u001b[0m 7ms/step \n",
            "\u001b[1m2/2\u001b[0m \u001b[32m━━━━━━━━━━━━━━━━━━━━\u001b[0m\u001b[37m\u001b[0m \u001b[1m0s\u001b[0m 6ms/step \n",
            "\u001b[1m2/2\u001b[0m \u001b[32m━━━━━━━━━━━━━━━━━━━━\u001b[0m\u001b[37m\u001b[0m \u001b[1m0s\u001b[0m 6ms/step \n",
            "\u001b[1m2/2\u001b[0m \u001b[32m━━━━━━━━━━━━━━━━━━━━\u001b[0m\u001b[37m\u001b[0m \u001b[1m0s\u001b[0m 6ms/step \n",
            "\u001b[1m2/2\u001b[0m \u001b[32m━━━━━━━━━━━━━━━━━━━━\u001b[0m\u001b[37m\u001b[0m \u001b[1m0s\u001b[0m 6ms/step \n",
            "\u001b[1m2/2\u001b[0m \u001b[32m━━━━━━━━━━━━━━━━━━━━\u001b[0m\u001b[37m\u001b[0m \u001b[1m0s\u001b[0m 7ms/step \n",
            "\u001b[1m2/2\u001b[0m \u001b[32m━━━━━━━━━━━━━━━━━━━━\u001b[0m\u001b[37m\u001b[0m \u001b[1m0s\u001b[0m 6ms/step \n",
            "\u001b[1m2/2\u001b[0m \u001b[32m━━━━━━━━━━━━━━━━━━━━\u001b[0m\u001b[37m\u001b[0m \u001b[1m0s\u001b[0m 6ms/step \n",
            "\u001b[1m2/2\u001b[0m \u001b[32m━━━━━━━━━━━━━━━━━━━━\u001b[0m\u001b[37m\u001b[0m \u001b[1m0s\u001b[0m 6ms/step \n",
            "\u001b[1m2/2\u001b[0m \u001b[32m━━━━━━━━━━━━━━━━━━━━\u001b[0m\u001b[37m\u001b[0m \u001b[1m0s\u001b[0m 6ms/step \n",
            "\u001b[1m2/2\u001b[0m \u001b[32m━━━━━━━━━━━━━━━━━━━━\u001b[0m\u001b[37m\u001b[0m \u001b[1m0s\u001b[0m 5ms/step \n",
            "\u001b[1m2/2\u001b[0m \u001b[32m━━━━━━━━━━━━━━━━━━━━\u001b[0m\u001b[37m\u001b[0m \u001b[1m0s\u001b[0m 6ms/step \n",
            "\u001b[1m2/2\u001b[0m \u001b[32m━━━━━━━━━━━━━━━━━━━━\u001b[0m\u001b[37m\u001b[0m \u001b[1m0s\u001b[0m 8ms/step \n",
            "\u001b[1m2/2\u001b[0m \u001b[32m━━━━━━━━━━━━━━━━━━━━\u001b[0m\u001b[37m\u001b[0m \u001b[1m0s\u001b[0m 6ms/step \n",
            "\u001b[1m2/2\u001b[0m \u001b[32m━━━━━━━━━━━━━━━━━━━━\u001b[0m\u001b[37m\u001b[0m \u001b[1m0s\u001b[0m 7ms/step \n",
            "\u001b[1m2/2\u001b[0m \u001b[32m━━━━━━━━━━━━━━━━━━━━\u001b[0m\u001b[37m\u001b[0m \u001b[1m0s\u001b[0m 8ms/step \n",
            "\u001b[1m2/2\u001b[0m \u001b[32m━━━━━━━━━━━━━━━━━━━━\u001b[0m\u001b[37m\u001b[0m \u001b[1m0s\u001b[0m 8ms/step \n",
            "\u001b[1m2/2\u001b[0m \u001b[32m━━━━━━━━━━━━━━━━━━━━\u001b[0m\u001b[37m\u001b[0m \u001b[1m0s\u001b[0m 6ms/step \n",
            "\u001b[1m2/2\u001b[0m \u001b[32m━━━━━━━━━━━━━━━━━━━━\u001b[0m\u001b[37m\u001b[0m \u001b[1m0s\u001b[0m 7ms/step \n",
            "\u001b[1m2/2\u001b[0m \u001b[32m━━━━━━━━━━━━━━━━━━━━\u001b[0m\u001b[37m\u001b[0m \u001b[1m0s\u001b[0m 7ms/step \n",
            "\u001b[1m2/2\u001b[0m \u001b[32m━━━━━━━━━━━━━━━━━━━━\u001b[0m\u001b[37m\u001b[0m \u001b[1m0s\u001b[0m 8ms/step \n",
            "\u001b[1m2/2\u001b[0m \u001b[32m━━━━━━━━━━━━━━━━━━━━\u001b[0m\u001b[37m\u001b[0m \u001b[1m0s\u001b[0m 6ms/step \n",
            "\u001b[1m2/2\u001b[0m \u001b[32m━━━━━━━━━━━━━━━━━━━━\u001b[0m\u001b[37m\u001b[0m \u001b[1m0s\u001b[0m 7ms/step \n",
            "\u001b[1m2/2\u001b[0m \u001b[32m━━━━━━━━━━━━━━━━━━━━\u001b[0m\u001b[37m\u001b[0m \u001b[1m0s\u001b[0m 5ms/step \n",
            "\u001b[1m2/2\u001b[0m \u001b[32m━━━━━━━━━━━━━━━━━━━━\u001b[0m\u001b[37m\u001b[0m \u001b[1m0s\u001b[0m 7ms/step \n",
            "\u001b[1m2/2\u001b[0m \u001b[32m━━━━━━━━━━━━━━━━━━━━\u001b[0m\u001b[37m\u001b[0m \u001b[1m0s\u001b[0m 6ms/step \n",
            "\u001b[1m2/2\u001b[0m \u001b[32m━━━━━━━━━━━━━━━━━━━━\u001b[0m\u001b[37m\u001b[0m \u001b[1m0s\u001b[0m 6ms/step \n",
            "\u001b[1m2/2\u001b[0m \u001b[32m━━━━━━━━━━━━━━━━━━━━\u001b[0m\u001b[37m\u001b[0m \u001b[1m0s\u001b[0m 6ms/step \n",
            "\u001b[1m2/2\u001b[0m \u001b[32m━━━━━━━━━━━━━━━━━━━━\u001b[0m\u001b[37m\u001b[0m \u001b[1m0s\u001b[0m 5ms/step \n",
            "\u001b[1m2/2\u001b[0m \u001b[32m━━━━━━━━━━━━━━━━━━━━\u001b[0m\u001b[37m\u001b[0m \u001b[1m0s\u001b[0m 6ms/step \n",
            "\u001b[1m2/2\u001b[0m \u001b[32m━━━━━━━━━━━━━━━━━━━━\u001b[0m\u001b[37m\u001b[0m \u001b[1m0s\u001b[0m 6ms/step \n",
            "\u001b[1m2/2\u001b[0m \u001b[32m━━━━━━━━━━━━━━━━━━━━\u001b[0m\u001b[37m\u001b[0m \u001b[1m0s\u001b[0m 6ms/step \n",
            "\u001b[1m2/2\u001b[0m \u001b[32m━━━━━━━━━━━━━━━━━━━━\u001b[0m\u001b[37m\u001b[0m \u001b[1m0s\u001b[0m 8ms/step \n",
            "\u001b[1m2/2\u001b[0m \u001b[32m━━━━━━━━━━━━━━━━━━━━\u001b[0m\u001b[37m\u001b[0m \u001b[1m0s\u001b[0m 8ms/step \n",
            "\u001b[1m2/2\u001b[0m \u001b[32m━━━━━━━━━━━━━━━━━━━━\u001b[0m\u001b[37m\u001b[0m \u001b[1m0s\u001b[0m 6ms/step \n",
            "\u001b[1m2/2\u001b[0m \u001b[32m━━━━━━━━━━━━━━━━━━━━\u001b[0m\u001b[37m\u001b[0m \u001b[1m0s\u001b[0m 6ms/step \n",
            "\u001b[1m2/2\u001b[0m \u001b[32m━━━━━━━━━━━━━━━━━━━━\u001b[0m\u001b[37m\u001b[0m \u001b[1m0s\u001b[0m 7ms/step \n",
            "\u001b[1m2/2\u001b[0m \u001b[32m━━━━━━━━━━━━━━━━━━━━\u001b[0m\u001b[37m\u001b[0m \u001b[1m0s\u001b[0m 6ms/step \n",
            "\u001b[1m2/2\u001b[0m \u001b[32m━━━━━━━━━━━━━━━━━━━━\u001b[0m\u001b[37m\u001b[0m \u001b[1m0s\u001b[0m 6ms/step \n",
            "\u001b[1m2/2\u001b[0m \u001b[32m━━━━━━━━━━━━━━━━━━━━\u001b[0m\u001b[37m\u001b[0m \u001b[1m0s\u001b[0m 8ms/step \n",
            "\u001b[1m2/2\u001b[0m \u001b[32m━━━━━━━━━━━━━━━━━━━━\u001b[0m\u001b[37m\u001b[0m \u001b[1m0s\u001b[0m 8ms/step \n",
            "\u001b[1m2/2\u001b[0m \u001b[32m━━━━━━━━━━━━━━━━━━━━\u001b[0m\u001b[37m\u001b[0m \u001b[1m0s\u001b[0m 7ms/step \n",
            "\u001b[1m2/2\u001b[0m \u001b[32m━━━━━━━━━━━━━━━━━━━━\u001b[0m\u001b[37m\u001b[0m \u001b[1m0s\u001b[0m 8ms/step \n",
            "\u001b[1m2/2\u001b[0m \u001b[32m━━━━━━━━━━━━━━━━━━━━\u001b[0m\u001b[37m\u001b[0m \u001b[1m0s\u001b[0m 5ms/step \n",
            "\u001b[1m2/2\u001b[0m \u001b[32m━━━━━━━━━━━━━━━━━━━━\u001b[0m\u001b[37m\u001b[0m \u001b[1m0s\u001b[0m 11ms/step\n",
            "\u001b[1m2/2\u001b[0m \u001b[32m━━━━━━━━━━━━━━━━━━━━\u001b[0m\u001b[37m\u001b[0m \u001b[1m0s\u001b[0m 7ms/step \n",
            "\u001b[1m2/2\u001b[0m \u001b[32m━━━━━━━━━━━━━━━━━━━━\u001b[0m\u001b[37m\u001b[0m \u001b[1m0s\u001b[0m 7ms/step \n",
            "\u001b[1m2/2\u001b[0m \u001b[32m━━━━━━━━━━━━━━━━━━━━\u001b[0m\u001b[37m\u001b[0m \u001b[1m0s\u001b[0m 7ms/step \n",
            "\u001b[1m2/2\u001b[0m \u001b[32m━━━━━━━━━━━━━━━━━━━━\u001b[0m\u001b[37m\u001b[0m \u001b[1m0s\u001b[0m 7ms/step \n",
            "\u001b[1m2/2\u001b[0m \u001b[32m━━━━━━━━━━━━━━━━━━━━\u001b[0m\u001b[37m\u001b[0m \u001b[1m0s\u001b[0m 7ms/step \n",
            "\u001b[1m2/2\u001b[0m \u001b[32m━━━━━━━━━━━━━━━━━━━━\u001b[0m\u001b[37m\u001b[0m \u001b[1m0s\u001b[0m 7ms/step \n",
            "\u001b[1m2/2\u001b[0m \u001b[32m━━━━━━━━━━━━━━━━━━━━\u001b[0m\u001b[37m\u001b[0m \u001b[1m0s\u001b[0m 6ms/step \n",
            "\u001b[1m2/2\u001b[0m \u001b[32m━━━━━━━━━━━━━━━━━━━━\u001b[0m\u001b[37m\u001b[0m \u001b[1m0s\u001b[0m 6ms/step \n",
            "\u001b[1m2/2\u001b[0m \u001b[32m━━━━━━━━━━━━━━━━━━━━\u001b[0m\u001b[37m\u001b[0m \u001b[1m0s\u001b[0m 7ms/step \n",
            "\u001b[1m2/2\u001b[0m \u001b[32m━━━━━━━━━━━━━━━━━━━━\u001b[0m\u001b[37m\u001b[0m \u001b[1m0s\u001b[0m 5ms/step \n",
            "\u001b[1m2/2\u001b[0m \u001b[32m━━━━━━━━━━━━━━━━━━━━\u001b[0m\u001b[37m\u001b[0m \u001b[1m0s\u001b[0m 6ms/step \n",
            "\u001b[1m2/2\u001b[0m \u001b[32m━━━━━━━━━━━━━━━━━━━━\u001b[0m\u001b[37m\u001b[0m \u001b[1m0s\u001b[0m 6ms/step \n",
            "\u001b[1m2/2\u001b[0m \u001b[32m━━━━━━━━━━━━━━━━━━━━\u001b[0m\u001b[37m\u001b[0m \u001b[1m0s\u001b[0m 6ms/step \n",
            "\u001b[1m2/2\u001b[0m \u001b[32m━━━━━━━━━━━━━━━━━━━━\u001b[0m\u001b[37m\u001b[0m \u001b[1m0s\u001b[0m 7ms/step \n",
            "\u001b[1m2/2\u001b[0m \u001b[32m━━━━━━━━━━━━━━━━━━━━\u001b[0m\u001b[37m\u001b[0m \u001b[1m0s\u001b[0m 6ms/step \n",
            "\u001b[1m2/2\u001b[0m \u001b[32m━━━━━━━━━━━━━━━━━━━━\u001b[0m\u001b[37m\u001b[0m \u001b[1m0s\u001b[0m 6ms/step \n",
            "\u001b[1m2/2\u001b[0m \u001b[32m━━━━━━━━━━━━━━━━━━━━\u001b[0m\u001b[37m\u001b[0m \u001b[1m0s\u001b[0m 7ms/step \n",
            "\u001b[1m2/2\u001b[0m \u001b[32m━━━━━━━━━━━━━━━━━━━━\u001b[0m\u001b[37m\u001b[0m \u001b[1m0s\u001b[0m 7ms/step \n",
            "\u001b[1m2/2\u001b[0m \u001b[32m━━━━━━━━━━━━━━━━━━━━\u001b[0m\u001b[37m\u001b[0m \u001b[1m0s\u001b[0m 6ms/step \n",
            "\u001b[1m2/2\u001b[0m \u001b[32m━━━━━━━━━━━━━━━━━━━━\u001b[0m\u001b[37m\u001b[0m \u001b[1m0s\u001b[0m 9ms/step \n",
            "\u001b[1m2/2\u001b[0m \u001b[32m━━━━━━━━━━━━━━━━━━━━\u001b[0m\u001b[37m\u001b[0m \u001b[1m0s\u001b[0m 9ms/step \n",
            "\u001b[1m2/2\u001b[0m \u001b[32m━━━━━━━━━━━━━━━━━━━━\u001b[0m\u001b[37m\u001b[0m \u001b[1m0s\u001b[0m 11ms/step\n",
            "\u001b[1m2/2\u001b[0m \u001b[32m━━━━━━━━━━━━━━━━━━━━\u001b[0m\u001b[37m\u001b[0m \u001b[1m0s\u001b[0m 11ms/step\n",
            "\u001b[1m2/2\u001b[0m \u001b[32m━━━━━━━━━━━━━━━━━━━━\u001b[0m\u001b[37m\u001b[0m \u001b[1m0s\u001b[0m 6ms/step \n",
            "\u001b[1m2/2\u001b[0m \u001b[32m━━━━━━━━━━━━━━━━━━━━\u001b[0m\u001b[37m\u001b[0m \u001b[1m0s\u001b[0m 12ms/step\n",
            "\u001b[1m2/2\u001b[0m \u001b[32m━━━━━━━━━━━━━━━━━━━━\u001b[0m\u001b[37m\u001b[0m \u001b[1m0s\u001b[0m 10ms/step\n",
            "\u001b[1m2/2\u001b[0m \u001b[32m━━━━━━━━━━━━━━━━━━━━\u001b[0m\u001b[37m\u001b[0m \u001b[1m0s\u001b[0m 9ms/step \n",
            "\u001b[1m2/2\u001b[0m \u001b[32m━━━━━━━━━━━━━━━━━━━━\u001b[0m\u001b[37m\u001b[0m \u001b[1m0s\u001b[0m 12ms/step\n",
            "\u001b[1m2/2\u001b[0m \u001b[32m━━━━━━━━━━━━━━━━━━━━\u001b[0m\u001b[37m\u001b[0m \u001b[1m0s\u001b[0m 11ms/step\n",
            "\u001b[1m2/2\u001b[0m \u001b[32m━━━━━━━━━━━━━━━━━━━━\u001b[0m\u001b[37m\u001b[0m \u001b[1m0s\u001b[0m 7ms/step \n",
            "\u001b[1m2/2\u001b[0m \u001b[32m━━━━━━━━━━━━━━━━━━━━\u001b[0m\u001b[37m\u001b[0m \u001b[1m0s\u001b[0m 16ms/step\n",
            "\u001b[1m2/2\u001b[0m \u001b[32m━━━━━━━━━━━━━━━━━━━━\u001b[0m\u001b[37m\u001b[0m \u001b[1m0s\u001b[0m 11ms/step\n",
            "\u001b[1m2/2\u001b[0m \u001b[32m━━━━━━━━━━━━━━━━━━━━\u001b[0m\u001b[37m\u001b[0m \u001b[1m0s\u001b[0m 12ms/step\n",
            "\u001b[1m2/2\u001b[0m \u001b[32m━━━━━━━━━━━━━━━━━━━━\u001b[0m\u001b[37m\u001b[0m \u001b[1m0s\u001b[0m 11ms/step\n",
            "\u001b[1m2/2\u001b[0m \u001b[32m━━━━━━━━━━━━━━━━━━━━\u001b[0m\u001b[37m\u001b[0m \u001b[1m0s\u001b[0m 6ms/step \n",
            "\u001b[1m2/2\u001b[0m \u001b[32m━━━━━━━━━━━━━━━━━━━━\u001b[0m\u001b[37m\u001b[0m \u001b[1m0s\u001b[0m 10ms/step\n",
            "\u001b[1m2/2\u001b[0m \u001b[32m━━━━━━━━━━━━━━━━━━━━\u001b[0m\u001b[37m\u001b[0m \u001b[1m0s\u001b[0m 8ms/step \n",
            "\u001b[1m2/2\u001b[0m \u001b[32m━━━━━━━━━━━━━━━━━━━━\u001b[0m\u001b[37m\u001b[0m \u001b[1m0s\u001b[0m 14ms/step\n",
            "\u001b[1m2/2\u001b[0m \u001b[32m━━━━━━━━━━━━━━━━━━━━\u001b[0m\u001b[37m\u001b[0m \u001b[1m0s\u001b[0m 7ms/step \n",
            "Predicciones promedios (Hz y S):\n",
            "[[42.86532963  0.1521264 ]\n",
            " [43.25196636  0.17528187]\n",
            " [42.49746414  0.14141803]\n",
            " [43.17226543  0.17474754]\n",
            " [43.33892887  0.17934595]\n",
            " [42.86823486  0.15274924]\n",
            " [42.23057514  0.13788133]\n",
            " [42.24733311  0.14008704]\n",
            " [42.84882481  0.15451424]\n",
            " [42.6847971   0.14729789]\n",
            " [43.17242607  0.16409459]\n",
            " [42.5120644   0.13950962]\n",
            " [42.76714546  0.15268434]\n",
            " [42.78371674  0.15300472]\n",
            " [42.77832195  0.15488623]\n",
            " [42.84436859  0.15227113]\n",
            " [42.84917835  0.15740686]\n",
            " [43.22107677  0.18024024]\n",
            " [42.37328686  0.14148852]\n",
            " [42.7280724   0.15297626]\n",
            " [43.46786293  0.18304195]\n",
            " [43.10931404  0.16540158]\n",
            " [42.56081192  0.14374683]\n",
            " [42.49066521  0.14073974]\n",
            " [42.29305294  0.13659399]\n",
            " [43.78606678  0.2220889 ]\n",
            " [43.05282455  0.15931553]\n",
            " [43.58430763  0.19941902]\n",
            " [42.69916328  0.14767766]\n",
            " [43.28986382  0.17755916]\n",
            " [43.50215652  0.17914999]\n",
            " [43.25913094  0.17161685]\n",
            " [42.6368169   0.14267245]\n",
            " [42.79826958  0.14467164]\n",
            " [42.44419346  0.13903887]\n",
            " [42.64362423  0.14982483]\n",
            " [46.64379467  0.2657017 ]\n",
            " [43.10188053  0.16191343]]\n",
            "Desviación estándar (incertidumbre):\n",
            "[[1.22829647 0.02261878]\n",
            " [1.17205161 0.02243579]\n",
            " [1.13382464 0.02439997]\n",
            " [1.19537956 0.02041283]\n",
            " [1.14270791 0.01968865]\n",
            " [1.22204184 0.02712997]\n",
            " [1.14526454 0.02617791]\n",
            " [1.09305715 0.02918945]\n",
            " [0.96520494 0.0224776 ]\n",
            " [1.18314672 0.02746527]\n",
            " [0.99148918 0.02387783]\n",
            " [1.04215381 0.02529085]\n",
            " [1.19819692 0.02430732]\n",
            " [1.09534158 0.02528351]\n",
            " [1.16693877 0.0246109 ]\n",
            " [1.23225414 0.0261774 ]\n",
            " [1.12561816 0.02065974]\n",
            " [1.08975192 0.0218645 ]\n",
            " [1.05553504 0.02723934]\n",
            " [1.26323758 0.02672476]\n",
            " [1.19717423 0.02176101]\n",
            " [1.19487311 0.02260224]\n",
            " [1.13707252 0.02115299]\n",
            " [1.03063622 0.02845222]\n",
            " [1.14704899 0.02775356]\n",
            " [1.18840692 0.01481711]\n",
            " [1.16452909 0.02427722]\n",
            " [1.07291469 0.01613219]\n",
            " [1.23170884 0.02306942]\n",
            " [1.17517832 0.01984322]\n",
            " [1.15411314 0.02122984]\n",
            " [1.11698353 0.02138059]\n",
            " [1.25833745 0.02084178]\n",
            " [1.12460952 0.02251806]\n",
            " [1.2025003  0.02271425]\n",
            " [1.30882329 0.02884745]\n",
            " [1.20732348 0.01587333]\n",
            " [1.05759873 0.01890919]]\n"
          ]
        }
      ]
    },
    {
      "cell_type": "code",
      "source": [
        "# Desescalar las predicciones para Hz y S al mismo tiempo\n",
        "prediction_mc_dropout_descaled = scaler_output.inverse_transform(prediction_mc_dropout)\n",
        "\n",
        "# Extraer los valores desescalados de Hz y S\n",
        "prediction_mc_dropout_Hz = prediction_mc_dropout_descaled[:, 0]  # Desescalar solo Hz\n",
        "prediction_mc_dropout_S = prediction_mc_dropout_descaled[:, 1]  # Desescalar solo S\n"
      ],
      "metadata": {
        "id": "l-5JjhhprkCG"
      },
      "execution_count": 48,
      "outputs": []
    },
    {
      "cell_type": "code",
      "source": [
        "# Desescalar Rmax rayos X\n",
        "#rmax_descaled = rmax_scaled.inverse_transform(x_scaled[:, 0].reshape(-1, 1))  # Usar scaler_rmax para desescalar\n",
        "\n",
        "rmax_descaled = scaler.inverse_transform(x_scaled[:, 0].reshape(-1, 1))  # Usar scaler para desescalar Rmax rayos X\n",
        "\n",
        "print(rmax_descaled)"
      ],
      "metadata": {
        "id": "lewKdNyztoLI",
        "outputId": "3fc87f41-940f-4ec7-a1e1-4a713c790f97",
        "colab": {
          "base_uri": "https://localhost:8080/"
        }
      },
      "execution_count": 49,
      "outputs": [
        {
          "output_type": "stream",
          "name": "stdout",
          "text": [
            "[[0.251 ]\n",
            " [0.491 ]\n",
            " [0.138 ]\n",
            " [0.503 ]\n",
            " [0.502 ]\n",
            " [0.243 ]\n",
            " [0.116 ]\n",
            " [0.0803]\n",
            " [0.314 ]\n",
            " [0.179 ]\n",
            " [0.343 ]\n",
            " [0.0561]\n",
            " [0.294 ]\n",
            " [0.279 ]\n",
            " [0.298 ]\n",
            " [0.272 ]\n",
            " [0.379 ]\n",
            " [0.5   ]\n",
            " [0.123 ]\n",
            " [0.289 ]\n",
            " [0.541 ]\n",
            " [0.4   ]\n",
            " [0.199 ]\n",
            " [0.0752]\n",
            " [0.104 ]\n",
            " [1.05  ]\n",
            " [0.319 ]\n",
            " [0.726 ]\n",
            " [0.247 ]\n",
            " [0.501 ]\n",
            " [0.478 ]\n",
            " [0.463 ]\n",
            " [0.201 ]\n",
            " [0.171 ]\n",
            " [0.149 ]\n",
            " [0.201 ]\n",
            " [4.    ]\n",
            " [0.39  ]]\n"
          ]
        }
      ]
    },
    {
      "cell_type": "code",
      "source": [
        "from sklearn.metrics import mean_squared_error, mean_absolute_error, r2_score\n",
        "\n",
        "\n",
        "# Evaluar rendimiento para Hz\n",
        "mse_Hz = mean_squared_error(y_descaled[:, 0], prediction_mc_dropout_descaled[:, 0])\n",
        "mae_Hz = mean_absolute_error(y_descaled[:, 0], prediction_mc_dropout_descaled[:, 0])\n",
        "r2_Hz = r2_score(y_descaled[:, 0], prediction_mc_dropout_descaled[:, 0])\n",
        "\n",
        "print(\"Rendimiento del modelo para Hz:\")\n",
        "print(f\"Mean Squared Error (MSE): {mse_Hz:.4f}\")\n",
        "print(f\"Mean Absolute Error (MAE): {mae_Hz:.4f}\")\n",
        "print(f\"R² Score: {r2_Hz:.4f}\")\n",
        "\n",
        "# Evaluar rendimiento para S\n",
        "mse_S = mean_squared_error(y_descaled[:, 1], prediction_mc_dropout_descaled[:, 1])\n",
        "mae_S = mean_absolute_error(y_descaled[:, 1], prediction_mc_dropout_descaled[:, 1])\n",
        "r2_S = r2_score(y_descaled[:, 1], prediction_mc_dropout_descaled[:, 1])\n",
        "\n",
        "print(\"\\nRendimiento del modelo para S:\")\n",
        "print(f\"Mean Squared Error (MSE): {mse_S:.4f}\")\n",
        "print(f\"Mean Absolute Error (MAE): {mae_S:.4f}\")\n",
        "print(f\"R² Score: {r2_S:.4f}\")\n"
      ],
      "metadata": {
        "id": "gEe0UM8Xul92",
        "outputId": "56d2dfac-b666-4311-f4e9-4e34aeb7a1b8",
        "colab": {
          "base_uri": "https://localhost:8080/"
        }
      },
      "execution_count": 50,
      "outputs": [
        {
          "output_type": "stream",
          "name": "stdout",
          "text": [
            "Rendimiento del modelo para Hz:\n",
            "Mean Squared Error (MSE): 342.5853\n",
            "Mean Absolute Error (MAE): 18.4974\n",
            "R² Score: -1636.7112\n",
            "\n",
            "Rendimiento del modelo para S:\n",
            "Mean Squared Error (MSE): 12051250368.5895\n",
            "Mean Absolute Error (MAE): 87200.9044\n",
            "R² Score: -1.7097\n"
          ]
        }
      ]
    },
    {
      "cell_type": "code",
      "source": [
        "# Graficar Hz\n",
        "sigma_Hz = np.sqrt(std_mc_dropout[:, 0]**2)  # Desviación estándar para Hz\n",
        "\n",
        "plt.figure(figsize=(10, 7), dpi=100)\n",
        "plt.errorbar(df_data['Rmax rayos X'], y[:, 0], fmt='g.', markersize=5, alpha=0.5, label='Datos originales Hz')\n",
        "plt.errorbar(df_data['Rmax rayos X'], prediction_mc_dropout_Hz, yerr=sigma_Hz, fmt='o',\n",
        "             ecolor='m', capthick=2, elinewidth=0.8, alpha=0.5, c='m',\n",
        "             label='Reconstrucción Neural con $\\sigma$ Hz')\n",
        "\n",
        "plt.xlim(xmin-0.01, xmax+0.01)\n",
        "plt.xlabel(\"Rmax rayos X\", fontsize=20)\n",
        "plt.ylabel(\"Hz\", fontsize=20)\n",
        "plt.xticks(fontsize=15)\n",
        "plt.yticks(fontsize=15)\n",
        "plt.legend(fontsize=12)\n",
        "plt.tight_layout()\n",
        "plt.savefig('reconstruccion_Hz.png', dpi=100)\n",
        "plt.show()\n",
        "\n",
        "# Graficar S\n",
        "sigma_S = np.sqrt(std_mc_dropout[:, 1]**2)  # Desviación estándar para S\n",
        "\n",
        "plt.figure(figsize=(10, 7), dpi=100)\n",
        "plt.errorbar(df_data['Rmax rayos X'], y[:, 1], fmt='g.', markersize=5, alpha=0.5, label='Datos originales S')\n",
        "plt.errorbar(df_data['Rmax rayos X'], prediction_mc_dropout_S, yerr=sigma_S, fmt='o',\n",
        "             ecolor='m', capthick=2, elinewidth=0.8, alpha=0.5, c='m',\n",
        "             label='Reconstrucción Neural con $\\sigma$ S')\n",
        "\n",
        "plt.xlim(xmin-0.01, xmax+0.01)\n",
        "plt.xlabel(\"Rmax rayos X\", fontsize=20)\n",
        "plt.ylabel(\"S\", fontsize=20)\n",
        "plt.xticks(fontsize=15)\n",
        "plt.yticks(fontsize=15)\n",
        "plt.legend(fontsize=12)\n",
        "plt.tight_layout()\n",
        "plt.savefig('reconstruccion_S.png', dpi=100)\n",
        "plt.show()\n"
      ],
      "metadata": {
        "id": "qiAiCqLZjkL9",
        "outputId": "fb9931f3-458f-4ce4-899b-77cd6e8b8384",
        "colab": {
          "base_uri": "https://localhost:8080/",
          "height": 1000
        }
      },
      "execution_count": 63,
      "outputs": [
        {
          "output_type": "display_data",
          "data": {
            "text/plain": [
              "<Figure size 1000x700 with 1 Axes>"
            ],
            "image/png": "[encoded data removed]"
          },
          "metadata": {}
        },
        {
          "output_type": "display_data",
          "data": {
            "text/plain": [
              "<Figure size 1000x700 with 1 Axes>"
            ],
            "image/png": "[encoded data removed]"
          },
          "metadata": {}
        }
      ]
    }
  ]
}